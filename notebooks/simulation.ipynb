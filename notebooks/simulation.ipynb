{
 "cells": [
  {
   "cell_type": "markdown",
   "metadata": {
    "application/vnd.databricks.v1+cell": {
     "cellMetadata": {
      "byteLimit": 2048000,
      "rowLimit": 10000
     },
     "inputWidgets": {},
     "nuid": "dfd78957-d385-44fd-b059-583ece12cf0d",
     "showTitle": false,
     "tableResultSettingsMap": {},
     "title": ""
    }
   },
   "source": [
    "# Setup"
   ]
  },
  {
   "cell_type": "code",
   "execution_count": 9,
   "metadata": {
    "application/vnd.databricks.v1+cell": {
     "cellMetadata": {
      "byteLimit": 2048000,
      "rowLimit": 10000
     },
     "inputWidgets": {},
     "nuid": "ef43c4f5-399a-42c0-81b8-7560ec225c92",
     "showTitle": false,
     "tableResultSettingsMap": {},
     "title": ""
    }
   },
   "outputs": [],
   "source": [
    "# General libraries \n",
    "from datetime import date\n",
    "from datetime import *\n",
    "import pandas as pd\n",
    "import numpy as np\n",
    "import warnings\n",
    "import logging\n",
    "import mlflow\n",
    "import sys\n",
    "import os\n",
    "\n",
    "# LP\n",
    "import pulp"
   ]
  },
  {
   "cell_type": "markdown",
   "metadata": {
    "application/vnd.databricks.v1+cell": {
     "cellMetadata": {
      "byteLimit": 2048000,
      "rowLimit": 10000
     },
     "inputWidgets": {},
     "nuid": "044e96b1-450c-495c-b1d4-5d2f2c4e2bf1",
     "showTitle": false,
     "tableResultSettingsMap": {},
     "title": ""
    }
   },
   "source": [
    "# Directory"
   ]
  },
  {
   "cell_type": "code",
   "execution_count": 13,
   "metadata": {},
   "outputs": [
    {
     "name": "stdout",
     "output_type": "stream",
     "text": [
      "Current Working Directory: /Users/ignasipascual/Library/Mobile Documents/com~apple~CloudDocs/Documents\n"
     ]
    }
   ],
   "source": [
    "# Get the current working directory\n",
    "script_dir = os.getcwd()\n",
    "\n",
    "# Check if we are inside the \"notebooks\" folder and move one level up\n",
    "if \"notebooks\" in script_dir:\n",
    "    parent_dir = os.path.dirname(script_dir)\n",
    "    os.chdir(parent_dir)\n",
    "\n",
    "# Verify the change\n",
    "cwd = os.getcwd()\n",
    "print(\"Current Working Directory:\", cwd)\n"
   ]
  },
  {
   "cell_type": "markdown",
   "metadata": {
    "application/vnd.databricks.v1+cell": {
     "cellMetadata": {
      "byteLimit": 2048000,
      "rowLimit": 10000
     },
     "inputWidgets": {},
     "nuid": "46ce3f2a-4b84-4b6b-b3b5-8a32251fc29f",
     "showTitle": false,
     "tableResultSettingsMap": {},
     "title": ""
    }
   },
   "source": [
    "# Assets"
   ]
  },
  {
   "cell_type": "code",
   "execution_count": 11,
   "metadata": {},
   "outputs": [
    {
     "ename": "ModuleNotFoundError",
     "evalue": "No module named 'utils'",
     "output_type": "error",
     "traceback": [
      "\u001b[0;31m---------------------------------------------------------------------------\u001b[0m",
      "\u001b[0;31mModuleNotFoundError\u001b[0m                       Traceback (most recent call last)",
      "Cell \u001b[0;32mIn[11], line 2\u001b[0m\n\u001b[1;32m      1\u001b[0m \u001b[38;5;66;03m# Load assets\u001b[39;00m\n\u001b[0;32m----> 2\u001b[0m \u001b[38;5;28;01mfrom\u001b[39;00m\u001b[38;5;250m \u001b[39m\u001b[38;5;21;01mutils\u001b[39;00m\u001b[38;5;21;01m.\u001b[39;00m\u001b[38;5;21;01msimulator\u001b[39;00m\u001b[38;5;250m \u001b[39m\u001b[38;5;28;01mimport\u001b[39;00m Simulator\n\u001b[1;32m      3\u001b[0m \u001b[38;5;28;01mfrom\u001b[39;00m\u001b[38;5;250m \u001b[39m\u001b[38;5;21;01mutils\u001b[39;00m\u001b[38;5;21;01m.\u001b[39;00m\u001b[38;5;21;01mplotter\u001b[39;00m\u001b[38;5;250m \u001b[39m\u001b[38;5;28;01mimport\u001b[39;00m Plotter\n",
      "\u001b[0;31mModuleNotFoundError\u001b[0m: No module named 'utils'"
     ]
    }
   ],
   "source": [
    "# Load assets\n",
    "from utils.simulator import Simulator\n",
    "from utils.plotter import Plotter"
   ]
  },
  {
   "cell_type": "markdown",
   "metadata": {
    "application/vnd.databricks.v1+cell": {
     "cellMetadata": {
      "byteLimit": 2048000,
      "rowLimit": 10000
     },
     "inputWidgets": {},
     "nuid": "42d1c716-7333-4401-adc4-b77a2fb38b10",
     "showTitle": false,
     "tableResultSettingsMap": {},
     "title": ""
    }
   },
   "source": [
    "# Parameters"
   ]
  },
  {
   "cell_type": "code",
   "execution_count": 4,
   "metadata": {
    "application/vnd.databricks.v1+cell": {
     "cellMetadata": {
      "byteLimit": 2048000,
      "rowLimit": 10000
     },
     "inputWidgets": {},
     "nuid": "59c97348-9584-4c73-8a42-e26948d32e0d",
     "showTitle": false,
     "tableResultSettingsMap": {},
     "title": ""
    }
   },
   "outputs": [],
   "source": [
    "# Set random seed\n",
    "np.random.seed(42)\n",
    "\n",
    "# Scenarios\n",
    "scenario_group = ['plant', 'warehouse', 'market', 'product']\n",
    "\n",
    "# Supply params\n",
    "supply_dist='uniform'\n",
    "supply_params = (200, 50)\n",
    "\n",
    "# Sell In params\n",
    "sell_in_dist='normal'\n",
    "sell_in_params = (150, 40)\n",
    "\n",
    "# Lead time params\n",
    "lead_time_dist='uniform'\n",
    "lead_time_params=(3, 10)\n",
    "\n",
    "# Initial inventory\n",
    "initial_inventory = 200"
   ]
  },
  {
   "cell_type": "markdown",
   "metadata": {
    "application/vnd.databricks.v1+cell": {
     "cellMetadata": {
      "byteLimit": 2048000,
      "rowLimit": 10000
     },
     "inputWidgets": {},
     "nuid": "1abbedeb-c54c-4854-8d42-5a421bb49d5e",
     "showTitle": false,
     "tableResultSettingsMap": {},
     "title": ""
    }
   },
   "source": [
    "# Start simulator"
   ]
  },
  {
   "cell_type": "code",
   "execution_count": 5,
   "metadata": {
    "application/vnd.databricks.v1+cell": {
     "cellMetadata": {
      "byteLimit": 2048000,
      "rowLimit": 10000
     },
     "inputWidgets": {},
     "nuid": "8fd7bd44-3bce-4e6b-bc4e-9bf1cb86b14b",
     "showTitle": false,
     "tableResultSettingsMap": {},
     "title": ""
    }
   },
   "outputs": [
    {
     "data": {
      "text/plain": [
       "<utils.simulator.Simulator at 0x14de99760>"
      ]
     },
     "execution_count": 5,
     "metadata": {},
     "output_type": "execute_result"
    }
   ],
   "source": [
    "# Initialize simulator\n",
    "sim = Simulator()\n",
    "\n",
    "# Show\n",
    "sim"
   ]
  },
  {
   "cell_type": "markdown",
   "metadata": {
    "application/vnd.databricks.v1+cell": {
     "cellMetadata": {
      "byteLimit": 2048000,
      "rowLimit": 10000
     },
     "inputWidgets": {},
     "nuid": "61af264d-dac5-4b71-83f4-5ecd91378819",
     "showTitle": false,
     "tableResultSettingsMap": {},
     "title": ""
    }
   },
   "source": [
    "## Simulate data"
   ]
  },
  {
   "cell_type": "code",
   "execution_count": 6,
   "metadata": {
    "application/vnd.databricks.v1+cell": {
     "cellMetadata": {
      "byteLimit": 2048000,
      "rowLimit": 10000
     },
     "inputWidgets": {},
     "nuid": "8ad53a90-ea61-4e97-a2af-4a1be491e4c3",
     "showTitle": false,
     "tableResultSettingsMap": {},
     "title": ""
    }
   },
   "outputs": [],
   "source": [
    "# Example usage:\n",
    "plants = ['plant_1']\n",
    "warehouses = ['warehouse_1', 'warehouse_2']\n",
    "markets = ['market_1', 'market_2']\n",
    "products = ['product_1']\n",
    "weeks = [202501 + i for i in range(10)]\n",
    "\n",
    "# Distribution map\n",
    "distribution_map = {\n",
    "    \"warehouse_1\": [\"market_1\"], \n",
    "    \"warehouse_2\": [\"market_1\", \"market_2\"], \n",
    "}"
   ]
  },
  {
   "cell_type": "code",
   "execution_count": 7,
   "metadata": {
    "application/vnd.databricks.v1+cell": {
     "cellMetadata": {
      "byteLimit": 2048000,
      "rowLimit": 10000
     },
     "inputWidgets": {},
     "nuid": "9639f263-0de2-4d6b-8978-347789e4794b",
     "showTitle": false,
     "tableResultSettingsMap": {},
     "title": ""
    }
   },
   "outputs": [
    {
     "data": {
      "text/html": [
       "<div>\n",
       "<style scoped>\n",
       "    .dataframe tbody tr th:only-of-type {\n",
       "        vertical-align: middle;\n",
       "    }\n",
       "\n",
       "    .dataframe tbody tr th {\n",
       "        vertical-align: top;\n",
       "    }\n",
       "\n",
       "    .dataframe thead th {\n",
       "        text-align: right;\n",
       "    }\n",
       "</style>\n",
       "<table border=\"1\" class=\"dataframe\">\n",
       "  <thead>\n",
       "    <tr style=\"text-align: right;\">\n",
       "      <th></th>\n",
       "      <th>plant</th>\n",
       "      <th>warehouse</th>\n",
       "      <th>market</th>\n",
       "      <th>product</th>\n",
       "      <th>week</th>\n",
       "    </tr>\n",
       "  </thead>\n",
       "  <tbody>\n",
       "    <tr>\n",
       "      <th>0</th>\n",
       "      <td>plant_1</td>\n",
       "      <td>warehouse_1</td>\n",
       "      <td>market_1</td>\n",
       "      <td>product_1</td>\n",
       "      <td>202501</td>\n",
       "    </tr>\n",
       "    <tr>\n",
       "      <th>3</th>\n",
       "      <td>plant_1</td>\n",
       "      <td>warehouse_1</td>\n",
       "      <td>market_1</td>\n",
       "      <td>product_1</td>\n",
       "      <td>202502</td>\n",
       "    </tr>\n",
       "    <tr>\n",
       "      <th>6</th>\n",
       "      <td>plant_1</td>\n",
       "      <td>warehouse_1</td>\n",
       "      <td>market_1</td>\n",
       "      <td>product_1</td>\n",
       "      <td>202503</td>\n",
       "    </tr>\n",
       "    <tr>\n",
       "      <th>9</th>\n",
       "      <td>plant_1</td>\n",
       "      <td>warehouse_1</td>\n",
       "      <td>market_1</td>\n",
       "      <td>product_1</td>\n",
       "      <td>202504</td>\n",
       "    </tr>\n",
       "    <tr>\n",
       "      <th>12</th>\n",
       "      <td>plant_1</td>\n",
       "      <td>warehouse_1</td>\n",
       "      <td>market_1</td>\n",
       "      <td>product_1</td>\n",
       "      <td>202505</td>\n",
       "    </tr>\n",
       "  </tbody>\n",
       "</table>\n",
       "</div>"
      ],
      "text/plain": [
       "      plant    warehouse    market    product    week\n",
       "0   plant_1  warehouse_1  market_1  product_1  202501\n",
       "3   plant_1  warehouse_1  market_1  product_1  202502\n",
       "6   plant_1  warehouse_1  market_1  product_1  202503\n",
       "9   plant_1  warehouse_1  market_1  product_1  202504\n",
       "12  plant_1  warehouse_1  market_1  product_1  202505"
      ]
     },
     "execution_count": 7,
     "metadata": {},
     "output_type": "execute_result"
    }
   ],
   "source": [
    "# Generate the dataset\n",
    "sc_data = sim.generate_scenarios(\n",
    "    plants, \n",
    "    warehouses, \n",
    "    markets, \n",
    "    products, \n",
    "    weeks, \n",
    "    distribution_map\n",
    ")\n",
    "\n",
    "# Show\n",
    "sc_data.head()"
   ]
  },
  {
   "cell_type": "code",
   "execution_count": 8,
   "metadata": {
    "application/vnd.databricks.v1+cell": {
     "cellMetadata": {
      "byteLimit": 2048000,
      "rowLimit": 10000
     },
     "inputWidgets": {},
     "nuid": "094e1669-8bf2-4ab3-9985-2996503547ec",
     "showTitle": false,
     "tableResultSettingsMap": {},
     "title": ""
    }
   },
   "outputs": [
    {
     "name": "stdout",
     "output_type": "stream",
     "text": [
      "Distinct plants: ['plant_1']\n",
      "Distinct warehouses: ['warehouse_1' 'warehouse_2']\n",
      "Distinct markets: ['market_1' 'market_2']\n",
      "Distinct products: ['product_1']\n"
     ]
    }
   ],
   "source": [
    "# Printing distinct values\n",
    "print(\"Distinct plants:\", sc_data['plant'].unique())\n",
    "print(\"Distinct warehouses:\", sc_data['warehouse'].unique())\n",
    "print(\"Distinct markets:\", sc_data['market'].unique())\n",
    "print(\"Distinct products:\", sc_data['product'].unique())"
   ]
  },
  {
   "cell_type": "markdown",
   "metadata": {
    "application/vnd.databricks.v1+cell": {
     "cellMetadata": {
      "byteLimit": 2048000,
      "rowLimit": 10000
     },
     "inputWidgets": {},
     "nuid": "d24eb95e-6f32-4204-a5f6-af4e284668a4",
     "showTitle": false,
     "tableResultSettingsMap": {},
     "title": ""
    }
   },
   "source": [
    "## Generate scenarios"
   ]
  },
  {
   "cell_type": "code",
   "execution_count": 9,
   "metadata": {
    "application/vnd.databricks.v1+cell": {
     "cellMetadata": {
      "byteLimit": 2048000,
      "rowLimit": 10000
     },
     "inputWidgets": {},
     "nuid": "4825ed60-f5e1-430f-ba5c-26ee50261286",
     "showTitle": false,
     "tableResultSettingsMap": {},
     "title": ""
    }
   },
   "outputs": [
    {
     "data": {
      "text/html": [
       "<div>\n",
       "<style scoped>\n",
       "    .dataframe tbody tr th:only-of-type {\n",
       "        vertical-align: middle;\n",
       "    }\n",
       "\n",
       "    .dataframe tbody tr th {\n",
       "        vertical-align: top;\n",
       "    }\n",
       "\n",
       "    .dataframe thead th {\n",
       "        text-align: right;\n",
       "    }\n",
       "</style>\n",
       "<table border=\"1\" class=\"dataframe\">\n",
       "  <thead>\n",
       "    <tr style=\"text-align: right;\">\n",
       "      <th></th>\n",
       "      <th>plant</th>\n",
       "      <th>warehouse</th>\n",
       "      <th>market</th>\n",
       "      <th>product</th>\n",
       "      <th>week</th>\n",
       "      <th>supply</th>\n",
       "      <th>sell_in</th>\n",
       "    </tr>\n",
       "  </thead>\n",
       "  <tbody>\n",
       "    <tr>\n",
       "      <th>0</th>\n",
       "      <td>plant_1</td>\n",
       "      <td>warehouse_1</td>\n",
       "      <td>market_1</td>\n",
       "      <td>product_1</td>\n",
       "      <td>202501</td>\n",
       "      <td>144.0</td>\n",
       "      <td>104.0</td>\n",
       "    </tr>\n",
       "    <tr>\n",
       "      <th>3</th>\n",
       "      <td>plant_1</td>\n",
       "      <td>warehouse_1</td>\n",
       "      <td>market_1</td>\n",
       "      <td>product_1</td>\n",
       "      <td>202502</td>\n",
       "      <td>57.0</td>\n",
       "      <td>165.0</td>\n",
       "    </tr>\n",
       "    <tr>\n",
       "      <th>6</th>\n",
       "      <td>plant_1</td>\n",
       "      <td>warehouse_1</td>\n",
       "      <td>market_1</td>\n",
       "      <td>product_1</td>\n",
       "      <td>202503</td>\n",
       "      <td>90.0</td>\n",
       "      <td>126.0</td>\n",
       "    </tr>\n",
       "    <tr>\n",
       "      <th>9</th>\n",
       "      <td>plant_1</td>\n",
       "      <td>warehouse_1</td>\n",
       "      <td>market_1</td>\n",
       "      <td>product_1</td>\n",
       "      <td>202504</td>\n",
       "      <td>110.0</td>\n",
       "      <td>138.0</td>\n",
       "    </tr>\n",
       "    <tr>\n",
       "      <th>12</th>\n",
       "      <td>plant_1</td>\n",
       "      <td>warehouse_1</td>\n",
       "      <td>market_1</td>\n",
       "      <td>product_1</td>\n",
       "      <td>202505</td>\n",
       "      <td>177.0</td>\n",
       "      <td>126.0</td>\n",
       "    </tr>\n",
       "  </tbody>\n",
       "</table>\n",
       "</div>"
      ],
      "text/plain": [
       "      plant    warehouse    market    product    week  supply  sell_in\n",
       "0   plant_1  warehouse_1  market_1  product_1  202501   144.0    104.0\n",
       "3   plant_1  warehouse_1  market_1  product_1  202502    57.0    165.0\n",
       "6   plant_1  warehouse_1  market_1  product_1  202503    90.0    126.0\n",
       "9   plant_1  warehouse_1  market_1  product_1  202504   110.0    138.0\n",
       "12  plant_1  warehouse_1  market_1  product_1  202505   177.0    126.0"
      ]
     },
     "execution_count": 9,
     "metadata": {},
     "output_type": "execute_result"
    }
   ],
   "source": [
    "# Simulate data\n",
    "sc_data = sim.simulate_flows(\n",
    "    supply_dist,\n",
    "    supply_params,\n",
    "    sell_in_dist,\n",
    "    sell_in_params\n",
    ")\n",
    "\n",
    "# Show\n",
    "sc_data.head()"
   ]
  },
  {
   "cell_type": "markdown",
   "metadata": {
    "application/vnd.databricks.v1+cell": {
     "cellMetadata": {
      "byteLimit": 2048000,
      "rowLimit": 10000
     },
     "inputWidgets": {},
     "nuid": "1372bd52-0f85-46dc-830a-083d1356f623",
     "showTitle": false,
     "tableResultSettingsMap": {},
     "title": ""
    }
   },
   "source": [
    "## Calculate inventory"
   ]
  },
  {
   "cell_type": "code",
   "execution_count": 10,
   "metadata": {
    "application/vnd.databricks.v1+cell": {
     "cellMetadata": {
      "byteLimit": 2048000,
      "rowLimit": 10000
     },
     "inputWidgets": {},
     "nuid": "bada262c-338a-4c14-9093-d4f700009d6d",
     "showTitle": false,
     "tableResultSettingsMap": {},
     "title": ""
    }
   },
   "outputs": [
    {
     "data": {
      "text/html": [
       "<div>\n",
       "<style scoped>\n",
       "    .dataframe tbody tr th:only-of-type {\n",
       "        vertical-align: middle;\n",
       "    }\n",
       "\n",
       "    .dataframe tbody tr th {\n",
       "        vertical-align: top;\n",
       "    }\n",
       "\n",
       "    .dataframe thead th {\n",
       "        text-align: right;\n",
       "    }\n",
       "</style>\n",
       "<table border=\"1\" class=\"dataframe\">\n",
       "  <thead>\n",
       "    <tr style=\"text-align: right;\">\n",
       "      <th></th>\n",
       "      <th>plant</th>\n",
       "      <th>warehouse</th>\n",
       "      <th>market</th>\n",
       "      <th>product</th>\n",
       "      <th>week</th>\n",
       "      <th>supply</th>\n",
       "      <th>sell_in</th>\n",
       "      <th>inventory</th>\n",
       "    </tr>\n",
       "  </thead>\n",
       "  <tbody>\n",
       "    <tr>\n",
       "      <th>0</th>\n",
       "      <td>plant_1</td>\n",
       "      <td>warehouse_1</td>\n",
       "      <td>market_1</td>\n",
       "      <td>product_1</td>\n",
       "      <td>202501</td>\n",
       "      <td>144.0</td>\n",
       "      <td>104.0</td>\n",
       "      <td>240.0</td>\n",
       "    </tr>\n",
       "    <tr>\n",
       "      <th>3</th>\n",
       "      <td>plant_1</td>\n",
       "      <td>warehouse_1</td>\n",
       "      <td>market_1</td>\n",
       "      <td>product_1</td>\n",
       "      <td>202502</td>\n",
       "      <td>57.0</td>\n",
       "      <td>165.0</td>\n",
       "      <td>132.0</td>\n",
       "    </tr>\n",
       "    <tr>\n",
       "      <th>6</th>\n",
       "      <td>plant_1</td>\n",
       "      <td>warehouse_1</td>\n",
       "      <td>market_1</td>\n",
       "      <td>product_1</td>\n",
       "      <td>202503</td>\n",
       "      <td>90.0</td>\n",
       "      <td>126.0</td>\n",
       "      <td>96.0</td>\n",
       "    </tr>\n",
       "    <tr>\n",
       "      <th>9</th>\n",
       "      <td>plant_1</td>\n",
       "      <td>warehouse_1</td>\n",
       "      <td>market_1</td>\n",
       "      <td>product_1</td>\n",
       "      <td>202504</td>\n",
       "      <td>110.0</td>\n",
       "      <td>138.0</td>\n",
       "      <td>68.0</td>\n",
       "    </tr>\n",
       "    <tr>\n",
       "      <th>12</th>\n",
       "      <td>plant_1</td>\n",
       "      <td>warehouse_1</td>\n",
       "      <td>market_1</td>\n",
       "      <td>product_1</td>\n",
       "      <td>202505</td>\n",
       "      <td>177.0</td>\n",
       "      <td>126.0</td>\n",
       "      <td>119.0</td>\n",
       "    </tr>\n",
       "  </tbody>\n",
       "</table>\n",
       "</div>"
      ],
      "text/plain": [
       "      plant    warehouse    market    product    week  supply  sell_in  \\\n",
       "0   plant_1  warehouse_1  market_1  product_1  202501   144.0    104.0   \n",
       "3   plant_1  warehouse_1  market_1  product_1  202502    57.0    165.0   \n",
       "6   plant_1  warehouse_1  market_1  product_1  202503    90.0    126.0   \n",
       "9   plant_1  warehouse_1  market_1  product_1  202504   110.0    138.0   \n",
       "12  plant_1  warehouse_1  market_1  product_1  202505   177.0    126.0   \n",
       "\n",
       "    inventory  \n",
       "0       240.0  \n",
       "3       132.0  \n",
       "6        96.0  \n",
       "9        68.0  \n",
       "12      119.0  "
      ]
     },
     "execution_count": 10,
     "metadata": {},
     "output_type": "execute_result"
    }
   ],
   "source": [
    "# Calculate inventory\n",
    "sc_data_inv = sim.calculate_inventory(\n",
    "    initial_inventory\n",
    ")\n",
    "\n",
    "# Show\n",
    "sc_data_inv.head()"
   ]
  },
  {
   "cell_type": "markdown",
   "metadata": {
    "application/vnd.databricks.v1+cell": {
     "cellMetadata": {
      "byteLimit": 2048000,
      "rowLimit": 10000
     },
     "inputWidgets": {},
     "nuid": "66a0525a-066e-4695-81ac-151dcefb7b07",
     "showTitle": false,
     "tableResultSettingsMap": {},
     "title": ""
    }
   },
   "source": [
    "## Lead times"
   ]
  },
  {
   "cell_type": "code",
   "execution_count": 11,
   "metadata": {
    "application/vnd.databricks.v1+cell": {
     "cellMetadata": {
      "byteLimit": 2048000,
      "rowLimit": 10000
     },
     "inputWidgets": {},
     "nuid": "7a6170b2-0df1-4799-9302-3349d65d02a4",
     "showTitle": false,
     "tableResultSettingsMap": {},
     "title": ""
    }
   },
   "outputs": [
    {
     "data": {
      "text/html": [
       "<div>\n",
       "<style scoped>\n",
       "    .dataframe tbody tr th:only-of-type {\n",
       "        vertical-align: middle;\n",
       "    }\n",
       "\n",
       "    .dataframe tbody tr th {\n",
       "        vertical-align: top;\n",
       "    }\n",
       "\n",
       "    .dataframe thead th {\n",
       "        text-align: right;\n",
       "    }\n",
       "</style>\n",
       "<table border=\"1\" class=\"dataframe\">\n",
       "  <thead>\n",
       "    <tr style=\"text-align: right;\">\n",
       "      <th></th>\n",
       "      <th>plant</th>\n",
       "      <th>warehouse</th>\n",
       "      <th>market</th>\n",
       "      <th>product</th>\n",
       "      <th>week</th>\n",
       "      <th>supply</th>\n",
       "      <th>sell_in</th>\n",
       "      <th>inventory</th>\n",
       "      <th>lead_time</th>\n",
       "    </tr>\n",
       "  </thead>\n",
       "  <tbody>\n",
       "    <tr>\n",
       "      <th>0</th>\n",
       "      <td>plant_1</td>\n",
       "      <td>warehouse_1</td>\n",
       "      <td>market_1</td>\n",
       "      <td>product_1</td>\n",
       "      <td>202501</td>\n",
       "      <td>144.0</td>\n",
       "      <td>104.0</td>\n",
       "      <td>240.0</td>\n",
       "      <td>8</td>\n",
       "    </tr>\n",
       "    <tr>\n",
       "      <th>1</th>\n",
       "      <td>plant_1</td>\n",
       "      <td>warehouse_1</td>\n",
       "      <td>market_1</td>\n",
       "      <td>product_1</td>\n",
       "      <td>202502</td>\n",
       "      <td>57.0</td>\n",
       "      <td>165.0</td>\n",
       "      <td>132.0</td>\n",
       "      <td>8</td>\n",
       "    </tr>\n",
       "    <tr>\n",
       "      <th>2</th>\n",
       "      <td>plant_1</td>\n",
       "      <td>warehouse_1</td>\n",
       "      <td>market_1</td>\n",
       "      <td>product_1</td>\n",
       "      <td>202503</td>\n",
       "      <td>90.0</td>\n",
       "      <td>126.0</td>\n",
       "      <td>96.0</td>\n",
       "      <td>8</td>\n",
       "    </tr>\n",
       "    <tr>\n",
       "      <th>3</th>\n",
       "      <td>plant_1</td>\n",
       "      <td>warehouse_1</td>\n",
       "      <td>market_1</td>\n",
       "      <td>product_1</td>\n",
       "      <td>202504</td>\n",
       "      <td>110.0</td>\n",
       "      <td>138.0</td>\n",
       "      <td>68.0</td>\n",
       "      <td>8</td>\n",
       "    </tr>\n",
       "    <tr>\n",
       "      <th>4</th>\n",
       "      <td>plant_1</td>\n",
       "      <td>warehouse_1</td>\n",
       "      <td>market_1</td>\n",
       "      <td>product_1</td>\n",
       "      <td>202505</td>\n",
       "      <td>177.0</td>\n",
       "      <td>126.0</td>\n",
       "      <td>119.0</td>\n",
       "      <td>8</td>\n",
       "    </tr>\n",
       "  </tbody>\n",
       "</table>\n",
       "</div>"
      ],
      "text/plain": [
       "     plant    warehouse    market    product    week  supply  sell_in  \\\n",
       "0  plant_1  warehouse_1  market_1  product_1  202501   144.0    104.0   \n",
       "1  plant_1  warehouse_1  market_1  product_1  202502    57.0    165.0   \n",
       "2  plant_1  warehouse_1  market_1  product_1  202503    90.0    126.0   \n",
       "3  plant_1  warehouse_1  market_1  product_1  202504   110.0    138.0   \n",
       "4  plant_1  warehouse_1  market_1  product_1  202505   177.0    126.0   \n",
       "\n",
       "   inventory  lead_time  \n",
       "0      240.0          8  \n",
       "1      132.0          8  \n",
       "2       96.0          8  \n",
       "3       68.0          8  \n",
       "4      119.0          8  "
      ]
     },
     "execution_count": 11,
     "metadata": {},
     "output_type": "execute_result"
    }
   ],
   "source": [
    "# Add lead times\n",
    "sc_data_lt = sim.simulate_lead_times(\n",
    "    scenario_group, \n",
    "    lead_time_dist, \n",
    "    lead_time_params\n",
    ")\n",
    "\n",
    "# Show\n",
    "sc_data_lt.head()"
   ]
  },
  {
   "cell_type": "markdown",
   "metadata": {
    "application/vnd.databricks.v1+cell": {
     "cellMetadata": {
      "byteLimit": 2048000,
      "rowLimit": 10000
     },
     "inputWidgets": {},
     "nuid": "caaf2a86-9fc9-4aa9-9572-1d9e58b3c9fa",
     "showTitle": false,
     "tableResultSettingsMap": {},
     "title": ""
    }
   },
   "source": [
    "## Summary"
   ]
  },
  {
   "cell_type": "code",
   "execution_count": 12,
   "metadata": {
    "application/vnd.databricks.v1+cell": {
     "cellMetadata": {
      "byteLimit": 2048000,
      "rowLimit": 10000
     },
     "inputWidgets": {},
     "nuid": "fd017c2e-6ea5-471a-b893-145d79afa2cf",
     "showTitle": false,
     "tableResultSettingsMap": {},
     "title": ""
    }
   },
   "outputs": [
    {
     "data": {
      "text/html": [
       "<div>\n",
       "<style scoped>\n",
       "    .dataframe tbody tr th:only-of-type {\n",
       "        vertical-align: middle;\n",
       "    }\n",
       "\n",
       "    .dataframe tbody tr th {\n",
       "        vertical-align: top;\n",
       "    }\n",
       "\n",
       "    .dataframe thead tr th {\n",
       "        text-align: left;\n",
       "    }\n",
       "\n",
       "    .dataframe thead tr:last-of-type th {\n",
       "        text-align: right;\n",
       "    }\n",
       "</style>\n",
       "<table border=\"1\" class=\"dataframe\">\n",
       "  <thead>\n",
       "    <tr>\n",
       "      <th></th>\n",
       "      <th colspan=\"4\" halign=\"left\">inventory</th>\n",
       "      <th colspan=\"4\" halign=\"left\">supply</th>\n",
       "      <th colspan=\"4\" halign=\"left\">sell_in</th>\n",
       "      <th colspan=\"4\" halign=\"left\">lead_time</th>\n",
       "    </tr>\n",
       "    <tr>\n",
       "      <th></th>\n",
       "      <th>min</th>\n",
       "      <th>max</th>\n",
       "      <th>mean</th>\n",
       "      <th>std</th>\n",
       "      <th>min</th>\n",
       "      <th>max</th>\n",
       "      <th>mean</th>\n",
       "      <th>std</th>\n",
       "      <th>min</th>\n",
       "      <th>max</th>\n",
       "      <th>mean</th>\n",
       "      <th>std</th>\n",
       "      <th>min</th>\n",
       "      <th>max</th>\n",
       "      <th>mean</th>\n",
       "      <th>std</th>\n",
       "    </tr>\n",
       "    <tr>\n",
       "      <th>warehouse</th>\n",
       "      <th></th>\n",
       "      <th></th>\n",
       "      <th></th>\n",
       "      <th></th>\n",
       "      <th></th>\n",
       "      <th></th>\n",
       "      <th></th>\n",
       "      <th></th>\n",
       "      <th></th>\n",
       "      <th></th>\n",
       "      <th></th>\n",
       "      <th></th>\n",
       "      <th></th>\n",
       "      <th></th>\n",
       "      <th></th>\n",
       "      <th></th>\n",
       "    </tr>\n",
       "  </thead>\n",
       "  <tbody>\n",
       "    <tr>\n",
       "      <th>warehouse_1</th>\n",
       "      <td>-4.0</td>\n",
       "      <td>240.0</td>\n",
       "      <td>91.60</td>\n",
       "      <td>69.2</td>\n",
       "      <td>57.0</td>\n",
       "      <td>191.0</td>\n",
       "      <td>122.00</td>\n",
       "      <td>47.52</td>\n",
       "      <td>101.0</td>\n",
       "      <td>224.0</td>\n",
       "      <td>142.40</td>\n",
       "      <td>39.14</td>\n",
       "      <td>8</td>\n",
       "      <td>8</td>\n",
       "      <td>8.0</td>\n",
       "      <td>0.00</td>\n",
       "    </tr>\n",
       "    <tr>\n",
       "      <th>warehouse_2</th>\n",
       "      <td>142.0</td>\n",
       "      <td>310.0</td>\n",
       "      <td>231.65</td>\n",
       "      <td>42.2</td>\n",
       "      <td>55.0</td>\n",
       "      <td>197.0</td>\n",
       "      <td>140.25</td>\n",
       "      <td>39.42</td>\n",
       "      <td>72.0</td>\n",
       "      <td>192.0</td>\n",
       "      <td>142.85</td>\n",
       "      <td>36.64</td>\n",
       "      <td>4</td>\n",
       "      <td>6</td>\n",
       "      <td>5.0</td>\n",
       "      <td>1.03</td>\n",
       "    </tr>\n",
       "  </tbody>\n",
       "</table>\n",
       "</div>"
      ],
      "text/plain": [
       "            inventory                      supply                        \\\n",
       "                  min    max    mean   std    min    max    mean    std   \n",
       "warehouse                                                                 \n",
       "warehouse_1      -4.0  240.0   91.60  69.2   57.0  191.0  122.00  47.52   \n",
       "warehouse_2     142.0  310.0  231.65  42.2   55.0  197.0  140.25  39.42   \n",
       "\n",
       "            sell_in                       lead_time                 \n",
       "                min    max    mean    std       min max mean   std  \n",
       "warehouse                                                           \n",
       "warehouse_1   101.0  224.0  142.40  39.14         8   8  8.0  0.00  \n",
       "warehouse_2    72.0  192.0  142.85  36.64         4   6  5.0  1.03  "
      ]
     },
     "execution_count": 12,
     "metadata": {},
     "output_type": "execute_result"
    }
   ],
   "source": [
    "# Get summary\n",
    "summary = sim.get_summary()\n",
    "\n",
    "# Show\n",
    "summary"
   ]
  },
  {
   "cell_type": "markdown",
   "metadata": {},
   "source": [
    "# Save data"
   ]
  },
  {
   "cell_type": "code",
   "execution_count": 13,
   "metadata": {},
   "outputs": [],
   "source": [
    "# Write csv\n",
    "sc_data_lt.to_csv('data/simulated_data.csv', index=False)"
   ]
  }
 ],
 "metadata": {
  "application/vnd.databricks.v1+notebook": {
   "dashboards": [],
   "environmentMetadata": {
    "base_environment": "",
    "client": "1"
   },
   "language": "python",
   "notebookMetadata": {
    "pythonIndentUnit": 2
   },
   "notebookName": "Simulator_Engine",
   "widgets": {}
  },
  "kernelspec": {
   "display_name": "Python 3",
   "language": "python",
   "name": "python3"
  },
  "language_info": {
   "codemirror_mode": {
    "name": "ipython",
    "version": 3
   },
   "file_extension": ".py",
   "mimetype": "text/x-python",
   "name": "python",
   "nbconvert_exporter": "python",
   "pygments_lexer": "ipython3",
   "version": "3.9.6"
  }
 },
 "nbformat": 4,
 "nbformat_minor": 4
}
